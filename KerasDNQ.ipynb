{
 "cells": [
  {
   "cell_type": "code",
   "execution_count": 1,
   "metadata": {
    "collapsed": false
   },
   "outputs": [],
   "source": [
    "from matplotlib import pyplot as plt\n",
    "%matplotlib inline\n",
    "plt.style.use(\"ggplot\")\n",
    "\n",
    "import pandas as pd\n",
    "import backtest as twp\n",
    "\n",
    "import numpy as np\n",
    "np.random.seed(1335)  # for reproducibility\n",
    "np.set_printoptions(precision=5, suppress=True, linewidth=150)\n",
    "\n",
    "from sklearn import metrics, preprocessing"
   ]
  },
  {
   "cell_type": "code",
   "execution_count": 2,
   "metadata": {
    "collapsed": true
   },
   "outputs": [],
   "source": [
    "def load_data(fun):\n",
    "    if fun == 'line':\n",
    "        price = np.arange(200/10.0) #linearly increasing prices\n",
    "        return price\n",
    "    if fun == 'sin':\n",
    "        price =  np.sin(np.arange(200)/30.0) #sin prices        \n",
    "        return price"
   ]
  },
  {
   "cell_type": "code",
   "execution_count": 3,
   "metadata": {
    "collapsed": false
   },
   "outputs": [
    {
     "data": {
      "text/plain": [
       "[<matplotlib.lines.Line2D at 0xfbc88ba20>]"
      ]
     },
     "execution_count": 3,
     "metadata": {},
     "output_type": "execute_result"
    },
    {
     "data": {
      "image/png": "[encoded data removed]",
      "text/plain": [
       "<matplotlib.figure.Figure at 0xfbc8264a8>"
      ]
     },
     "metadata": {},
     "output_type": "display_data"
    }
   ],
   "source": [
    "indata_line = load_data('line')\n",
    "plt.figure()\n",
    "plt.plot(indata_line)"
   ]
  },
  {
   "cell_type": "code",
   "execution_count": 4,
   "metadata": {
    "collapsed": false
   },
   "outputs": [
    {
     "data": {
      "text/plain": [
       "[<matplotlib.lines.Line2D at 0xfbcd132b0>]"
      ]
     },
     "execution_count": 4,
     "metadata": {},
     "output_type": "execute_result"
    },
    {
     "data": {
      "image/png": "[encoded data removed]",
      "text/plain": [
       "<matplotlib.figure.Figure at 0xfbc858fd0>"
      ]
     },
     "metadata": {},
     "output_type": "display_data"
    }
   ],
   "source": [
    "indata_sine = load_data('sin')\n",
    "plt.figure()\n",
    "plt.plot(indata_sine)"
   ]
  },
  {
   "cell_type": "code",
   "execution_count": 5,
   "metadata": {
    "collapsed": true
   },
   "outputs": [],
   "source": [
    "#indata = indata_line"
   ]
  },
  {
   "cell_type": "code",
   "execution_count": 6,
   "metadata": {
    "collapsed": false
   },
   "outputs": [],
   "source": [
    "# Initialize first state, all items are placed deterministically\n",
    "def init_state(data):\n",
    "    close = data\n",
    "    diff = np.diff(data) \n",
    "    # diff: The first order difference is given by out[n] = a[n+1] - a[n]\n",
    "    # x = np.array([1, 2, 4, 7, 0])\n",
    "    # np.diff(x)\n",
    "    # array([ 1,  2,  3, -7])\n",
    "    diff = np.insert(diff,0,0)\n",
    "    \n",
    "    #-- Preprocess data\n",
    "    xdata = np.column_stack((close, diff))\n",
    "    xdata = np.nan_to_num(xdata)\n",
    "    \n",
    "    # Standardize features by removing the mean and scaling to unit variance\n",
    "    scaler = preprocessing.StandardScaler()\n",
    "    xdata = scaler.fit_transform(xdata)\n",
    "    \n",
    "    # Centering and scaling happen independently on each feature by computing the relevant statistics on the samples in the training set. \n",
    "    # Mean and standard deviation are then stored to be used on later data using the transform method.\n",
    "\n",
    "    state = xdata[0:1,:]\n",
    "    return state, xdata\n",
    "    \n",
    "    "
   ]
  },
  {
   "cell_type": "code",
   "execution_count": 7,
   "metadata": {
    "collapsed": true
   },
   "outputs": [],
   "source": [
    "# Take Action\n",
    "def take_action(state, xdata, action, signal, time_step):\n",
    "    # This should generate a list of trade signals that at evaluation time are fed to the backtester.\n",
    "    # The backtester should get a list of trade signals and a list of price data for the asset\n",
    "    \n",
    "    # Make necessary adjustments to state and then run it\n",
    "    time_step += 1\n",
    "    \n",
    "    #if the current iteration is the last state (\"terminal state\") then set terminal_state to 1\n",
    "    if time_step == xdata.shape[0]:\n",
    "        state = xdata[time_step-1:time_step,:]#??Maybe this outside the loop\n",
    "        terminal_state = 1\n",
    "        signal.loc[time_step] = 0 #loc: Purely label-location based indexer for selection by label.\n",
    "        return state, time_step, signal, terminal_state\n",
    "    \n",
    "    # Move the market data window one step forward\n",
    "    state = xdata[time_step-1:time_step,:] #?? Maybe this few lines up\n",
    "    # take action!\n",
    "    if action !=0:\n",
    "        if action == 1:\n",
    "            signal.loc[time_step] = 100\n",
    "        elif action == 2:\n",
    "            signal.loc[time_step] = -100\n",
    "        elif action == 3:\n",
    "            signal.loc[time_step] = 0\n",
    "    terminal_state = 0\n",
    "    \n",
    "    return state, time_step, signal, terminal_state"
   ]
  },
  {
   "cell_type": "code",
   "execution_count": 8,
   "metadata": {
    "collapsed": false
   },
   "outputs": [],
   "source": [
    "# Get the reward. The reward is returned at the end of an epsilon\n",
    "def get_reward(new_state, time_step, action, xdata, signal, terminal_steate, epoch=0):\n",
    "    reward = 0\n",
    "    signal.fillna(value=0, inplace=True)\n",
    "    if terminal_state == 0:\n",
    "        # get reward for the most current action\n",
    "        if signal[time_step] != signal[time_step-1] and terminal_state == 0:\n",
    "            i=1\n",
    "            while signal[time_step-i] == signal[time_step-1-i] and time_step - 1 -i >0:\n",
    "                i+=1\n",
    "            reward = (xdata[time_step-1,0] -xdata[time_step-i-1,0])*signal[time_step-1]*-100 + i*np.abs(signal[time_step-1])/10.0\n",
    "            \n",
    "        if signal[time_step] == 0 and signal[time_step-1]==0: #maybe revise this??\n",
    "            reward -=10 #??\n",
    "            \n",
    "    # calculate the reward for all actions if the last iteration in set\n",
    "    if terminal_state == 1:\n",
    "        # run backtest, send list of trade signals and asset data to backtest function\n",
    "        bt = twp.Backtest(pd.Series(data=[x[0] for x in xdata]), signal, signalType='shares')\n",
    "        reward = bt.pnl.iloc[-1]\n",
    "        \n",
    "    return reward"
   ]
  },
  {
   "cell_type": "code",
   "execution_count": 9,
   "metadata": {
    "collapsed": true
   },
   "outputs": [],
   "source": [
    "def evaluate_Q(eval_data, eval_model):\n",
    "    # This function is used to evaluate the perfomance of the system each epoch, \n",
    "    # without the influence of epsilon and random actions\n",
    "    signal = pd.Series(index=np.arange(len(eval_data)))\n",
    "    state, xdata = init_state(eval_data)\n",
    "    status = 1\n",
    "    terminal_state = 0\n",
    "    time_step = 1\n",
    "    while(status == 1):\n",
    "        # We start in state S\n",
    "        # Run the Q function on S to get predicted reward values on all the possible actions\n",
    "        qval = eval_model.predict(state.reshape(1,2), batch_size=1)\n",
    "        action = (np.argmax(qval))\n",
    "        # Take action, observe new state S'\n",
    "        new_state, time_step, signal, terminal_state = take_action(state, xdata, action, signal, time_step)\n",
    "        # Observe reward\n",
    "        eval_reward = get_reward(new_state, time_step, action, xdata, signal, terminal_state, i)\n",
    "        state = new_state\n",
    "        if terminal_state == 1:\n",
    "            status = 0\n",
    "    return eval_reward\n"
   ]
  },
  {
   "cell_type": "code",
   "execution_count": 10,
   "metadata": {
    "collapsed": false
   },
   "outputs": [
    {
     "name": "stderr",
     "output_type": "stream",
     "text": [
      "Using TensorFlow backend.\n"
     ]
    }
   ],
   "source": [
    "#This neural network is the Q-function, run it like this:\n",
    "#model.predict(state.reshape(1,64), batch_size=1)\n",
    "\n",
    "from keras.models import Sequential\n",
    "from keras.layers.core import Dense, Dropout, Activation\n",
    "from keras.optimizers import RMSprop\n",
    "\n",
    "model = Sequential()\n",
    "model.add(Dense(4, kernel_initializer ='lecun_uniform', input_shape=(2,))) #LeCun uniform initializer.It draws samples from a uniform distribution within [-limit, limit] \n",
    "model.add(Activation('relu'))\n",
    "#model.add(Dropout(0.2)) #maybe add later\n",
    "\n",
    "model.add(Dense(4, kernel_initializer ='lecun_uniform'))\n",
    "model.add(Activation('relu'))\n",
    "#model.add(Dropout(0.2))\n",
    "\n",
    "model.add(Dense(4, kernel_initializer ='lecun_uniform'))\n",
    "model.add(Activation('linear')) #linear output, so we can have range of real-valued outputs\n",
    "\n",
    "rms = RMSprop()\n",
    "model.compile(loss='mse', optimizer=rms)\n",
    "\n",
    "\n"
   ]
  },
  {
   "cell_type": "code",
   "execution_count": 11,
   "metadata": {
    "collapsed": true
   },
   "outputs": [],
   "source": [
    "from keras.models import load_model\n",
    "\n",
    "model.save('sin_model.h5')  # creates a HDF5 file 'my_model.h5'\n",
    "#del model  # deletes the existing model\n",
    "\n"
   ]
  },
  {
   "cell_type": "code",
   "execution_count": 12,
   "metadata": {
    "collapsed": true
   },
   "outputs": [],
   "source": [
    "# returns a compiled model\n",
    "# identical to the previous one\n",
    "#model = load_model('sin_model.h5')\n"
   ]
  },
  {
   "cell_type": "code",
   "execution_count": 16,
   "metadata": {
    "collapsed": false
   },
   "outputs": [
    {
     "data": {
      "text/plain": [
       "[<matplotlib.lines.Line2D at 0xfc2f542e8>]"
      ]
     },
     "execution_count": 16,
     "metadata": {},
     "output_type": "execute_result"
    },
    {
     "data": {
      "image/png": "[encoded data removed]",
      "text/plain": [
       "<matplotlib.figure.Figure at 0xfc0a79358>"
      ]
     },
     "metadata": {},
     "output_type": "display_data"
    }
   ],
   "source": [
    "import random, timeit\n",
    "\n",
    "start_time = timeit.default_timer()\n",
    "\n",
    "indata = load_data('sin') # !! Chnage here\n",
    "epochs = 100\n",
    "gamma = 0.9 # a high gamma makes a long term reward more valubale\n",
    "epsilon = 1\n",
    "learning_progress = []\n",
    "#store tuples of (S,A,R,S')\n",
    "h = 0\n",
    "signal = pd.Series(index=np.arange(len(indata))) # change here??\n",
    "\n",
    "\n",
    "plt.figure()\n",
    "plt.plot(indata)"
   ]
  },
  {
   "cell_type": "code",
   "execution_count": null,
   "metadata": {
    "collapsed": true
   },
   "outputs": [],
   "source": []
  },
  {
   "cell_type": "code",
   "execution_count": 17,
   "metadata": {
    "collapsed": false
   },
   "outputs": [
    {
     "name": "stdout",
     "output_type": "stream",
     "text": [
      "Epoch # 0 Reward: -28.674654 Epsilon: 1.000000\n",
      "Epoch # 1 Reward: 15.970709 Epsilon: 0.990000\n",
      "Epoch # 2 Reward: -36.448415 Epsilon: 0.980000\n",
      "Epoch # 3 Reward: 11.938506 Epsilon: 0.970000\n",
      "Epoch # 4 Reward: -32.751814 Epsilon: 0.960000\n",
      "Epoch # 5 Reward: 40.468872 Epsilon: 0.950000\n",
      "Epoch # 6 Reward: 5.753130 Epsilon: 0.940000\n",
      "Epoch # 7 Reward: -18.092470 Epsilon: 0.930000\n",
      "Epoch # 8 Reward: -58.904492 Epsilon: 0.920000\n",
      "Epoch # 9 Reward: -13.512672 Epsilon: 0.910000\n",
      "Epoch # 10 Reward: 4.046192 Epsilon: 0.900000\n",
      "Epoch # 11 Reward: 85.032877 Epsilon: 0.890000\n",
      "Epoch # 12 Reward: 81.040733 Epsilon: 0.880000\n",
      "Epoch # 13 Reward: 10.130237 Epsilon: 0.870000\n",
      "Epoch # 14 Reward: 54.635049 Epsilon: 0.860000\n",
      "Epoch # 15 Reward: -0.814044 Epsilon: 0.850000\n",
      "Epoch # 16 Reward: 69.223015 Epsilon: 0.840000\n",
      "Epoch # 17 Reward: 75.282080 Epsilon: 0.830000\n",
      "Epoch # 18 Reward: 45.563871 Epsilon: 0.820000\n",
      "Epoch # 19 Reward: 66.174929 Epsilon: 0.810000\n",
      "Epoch # 20 Reward: 141.905109 Epsilon: 0.800000\n",
      "Epoch # 21 Reward: 168.090675 Epsilon: 0.790000\n",
      "Epoch # 22 Reward: 74.806226 Epsilon: 0.780000\n",
      "Epoch # 23 Reward: 94.127634 Epsilon: 0.770000\n",
      "Epoch # 24 Reward: 127.553084 Epsilon: 0.760000\n",
      "Epoch # 25 Reward: 92.050943 Epsilon: 0.750000\n",
      "Epoch # 26 Reward: 99.494765 Epsilon: 0.740000\n",
      "Epoch # 27 Reward: 112.885454 Epsilon: 0.730000\n",
      "Epoch # 28 Reward: 159.562591 Epsilon: 0.720000\n",
      "Epoch # 29 Reward: 94.094893 Epsilon: 0.710000\n",
      "Epoch # 30 Reward: 161.979400 Epsilon: 0.700000\n",
      "Epoch # 31 Reward: 126.547962 Epsilon: 0.690000\n",
      "Epoch # 32 Reward: 157.510982 Epsilon: 0.680000\n",
      "Epoch # 33 Reward: 118.743821 Epsilon: 0.670000\n",
      "Epoch # 34 Reward: 145.097710 Epsilon: 0.660000\n",
      "Epoch # 35 Reward: 186.165800 Epsilon: 0.650000\n",
      "Epoch # 36 Reward: 150.746309 Epsilon: 0.640000\n",
      "Epoch # 37 Reward: 317.714350 Epsilon: 0.630000\n",
      "Epoch # 38 Reward: 153.799848 Epsilon: 0.620000\n",
      "Epoch # 39 Reward: 190.635179 Epsilon: 0.610000\n",
      "Epoch # 40 Reward: 245.390217 Epsilon: 0.600000\n",
      "Epoch # 41 Reward: 173.892454 Epsilon: 0.590000\n",
      "Epoch # 42 Reward: 231.984458 Epsilon: 0.580000\n",
      "Epoch # 43 Reward: 315.401928 Epsilon: 0.570000\n",
      "Epoch # 44 Reward: 280.107810 Epsilon: 0.560000\n",
      "Epoch # 45 Reward: 272.312061 Epsilon: 0.550000\n",
      "Epoch # 46 Reward: 290.991780 Epsilon: 0.540000\n",
      "Epoch # 47 Reward: 253.349763 Epsilon: 0.530000\n",
      "Epoch # 48 Reward: 306.280330 Epsilon: 0.520000\n",
      "Epoch # 49 Reward: 300.249330 Epsilon: 0.510000\n",
      "Epoch # 50 Reward: 343.953002 Epsilon: 0.500000\n",
      "Epoch # 51 Reward: 338.219477 Epsilon: 0.490000\n",
      "Epoch # 52 Reward: 359.137255 Epsilon: 0.480000\n",
      "Epoch # 53 Reward: 390.759255 Epsilon: 0.470000\n",
      "Epoch # 54 Reward: 364.387345 Epsilon: 0.460000\n",
      "Epoch # 55 Reward: 337.597536 Epsilon: 0.450000\n",
      "Epoch # 56 Reward: 324.059944 Epsilon: 0.440000\n",
      "Epoch # 57 Reward: 394.744427 Epsilon: 0.430000\n",
      "Epoch # 58 Reward: 343.787678 Epsilon: 0.420000\n",
      "Epoch # 59 Reward: 364.465756 Epsilon: 0.410000\n",
      "Epoch # 60 Reward: 394.612646 Epsilon: 0.400000\n",
      "Epoch # 61 Reward: 415.570889 Epsilon: 0.390000\n",
      "Epoch # 62 Reward: 358.997236 Epsilon: 0.380000\n",
      "Epoch # 63 Reward: 378.062989 Epsilon: 0.370000\n",
      "Epoch # 64 Reward: 400.231714 Epsilon: 0.360000\n",
      "Epoch # 65 Reward: 386.698215 Epsilon: 0.350000\n",
      "Epoch # 66 Reward: 429.852300 Epsilon: 0.340000\n",
      "Epoch # 67 Reward: 401.662023 Epsilon: 0.330000\n",
      "Epoch # 68 Reward: 440.249241 Epsilon: 0.320000\n",
      "Epoch # 69 Reward: 357.262394 Epsilon: 0.310000\n",
      "Epoch # 70 Reward: 414.529813 Epsilon: 0.300000\n",
      "Epoch # 71 Reward: 522.733696 Epsilon: 0.290000\n",
      "Epoch # 72 Reward: 497.128005 Epsilon: 0.280000\n",
      "Epoch # 73 Reward: 500.673640 Epsilon: 0.270000\n",
      "Epoch # 74 Reward: 475.525265 Epsilon: 0.260000\n",
      "Epoch # 75 Reward: 461.210062 Epsilon: 0.250000\n",
      "Epoch # 76 Reward: 513.802068 Epsilon: 0.240000\n",
      "Epoch # 77 Reward: 463.998874 Epsilon: 0.230000\n",
      "Epoch # 78 Reward: 522.383216 Epsilon: 0.220000\n",
      "Epoch # 79 Reward: 512.577836 Epsilon: 0.210000\n",
      "Epoch # 80 Reward: 508.428979 Epsilon: 0.200000\n",
      "Epoch # 81 Reward: 484.200312 Epsilon: 0.190000\n",
      "Epoch # 82 Reward: 542.031307 Epsilon: 0.180000\n",
      "Epoch # 83 Reward: 548.813846 Epsilon: 0.170000\n",
      "Epoch # 84 Reward: 539.175356 Epsilon: 0.160000\n",
      "Epoch # 85 Reward: 550.689606 Epsilon: 0.150000\n",
      "Epoch # 86 Reward: 493.067908 Epsilon: 0.140000\n",
      "Epoch # 87 Reward: 527.236557 Epsilon: 0.130000\n",
      "Epoch # 88 Reward: 528.515108 Epsilon: 0.120000\n",
      "Epoch # 89 Reward: 577.973305 Epsilon: 0.110000\n",
      "Epoch # 90 Reward: 559.960488 Epsilon: 0.100000\n",
      "Epoch # 91 Reward: 560.539417 Epsilon: 0.100000\n",
      "Epoch # 92 Reward: 585.102559 Epsilon: 0.100000\n",
      "Epoch # 93 Reward: 570.813637 Epsilon: 0.100000\n",
      "Epoch # 94 Reward: 565.033359 Epsilon: 0.100000\n",
      "Epoch # 95 Reward: 563.562635 Epsilon: 0.100000\n",
      "Epoch # 96 Reward: 587.056098 Epsilon: 0.100000\n",
      "Epoch # 97 Reward: 604.334078 Epsilon: 0.100000\n",
      "Epoch # 98 Reward: 595.695847 Epsilon: 0.100000\n",
      "Epoch # 99 Reward: 619.865222 Epsilon: 0.100000\n",
      "Completed in 35.580000\n"
     ]
    }
   ],
   "source": [
    "# This should be main loop\n",
    "for i in range(epochs):\n",
    "    state, xdata = init_state(indata)\n",
    "    status = 1 \n",
    "    terminal_state = 0\n",
    "    time_step = 1\n",
    "    #while learning is still in progress\n",
    "    while(status==1):\n",
    "        #We start in state S\n",
    "        #Run the Q function on S to get predicted reward on all the possible actions\n",
    "        qval = model.predict(state.reshape(1,2), batch_size=1)\n",
    "        if (random.random() < epsilon) and i != epochs - 1: #choose random action (to not stuck)\n",
    "            action = np.random.randint(0,4) # assume 4 different actions\n",
    "        else: # choose action from Q(s,a)\n",
    "            action = (np.argmax(qval))\n",
    "        \n",
    "        #Take action, observe new state S'\n",
    "        new_state, time_step, signal, terminal_state = take_action(state, xdata, action, signal, time_step)\n",
    "        \n",
    "        #Observe reward\n",
    "        reward = get_reward(new_state, time_step, action, xdata, signal, terminal_state, i)\n",
    "        \n",
    "        #Get max_Q(S',a)\n",
    "        newQ = model.predict(new_state.reshape(1,2),batch_size=1)\n",
    "        maxQ = np.max(newQ)\n",
    "        y = np.zeros((1,4))\n",
    "        y[:] = qval[:]\n",
    "        if terminal_state == 0: #none-terminal state\n",
    "            update = (reward + (gamma * maxQ))\n",
    "        else:\n",
    "            update = reward\n",
    "        y[0][action] = update\n",
    "        model.fit(state.reshape(1,2),y,batch_size=1,epochs=1,verbose=0)\n",
    "        state = new_state\n",
    "        if terminal_state == 1: # terminal state\n",
    "            status =0\n",
    "    print(\"Epoch # %s Reward: %f Epsilon: %f\" % (i,reward,epsilon))\n",
    "    learning_progress.append((reward))\n",
    "    if epsilon > 0.1:\n",
    "        epsilon -= (1.0/epochs)\n",
    "        \n",
    "elapsed = np.round(timeit.default_timer() - start_time, decimals=2)\n",
    "print(\"Completed in %f\" % (elapsed,))"
   ]
  },
  {
   "cell_type": "code",
   "execution_count": 18,
   "metadata": {
    "collapsed": false
   },
   "outputs": [
    {
     "name": "stdout",
     "output_type": "stream",
     "text": [
      "        price  shares       value        cash         pnl  delta\n",
      "0   -0.014472     0.0   -0.000000    0.000000    0.000000    0.0\n",
      "1    0.033959     0.0    0.000000    0.000000    0.000000    0.0\n",
      "2    0.082336   100.0    8.233615   -8.233615    0.000000  100.0\n",
      "3    0.130606   100.0   13.060554   -8.233615    4.826939    0.0\n",
      "4    0.178714   100.0   17.871375   -8.233615    9.637760    0.0\n",
      "5    0.226607   100.0   22.660733   -8.233615   14.427118    0.0\n",
      "6    0.274233   100.0   27.423307   -8.233615   19.189692    0.0\n",
      "7    0.321538   100.0   32.153805   -8.233615   23.920190    0.0\n",
      "8    0.368470   100.0   36.846973   -8.233615   28.613358    0.0\n",
      "9    0.414976   100.0   41.497595   -8.233615   33.263980    0.0\n",
      "10   0.461005   100.0   46.100506   -8.233615   37.866891    0.0\n",
      "11   0.506506   100.0   50.650590   -8.233615   42.416975    0.0\n",
      "12   0.551428   100.0   55.142794   -8.233615   46.909179    0.0\n",
      "13   0.595721   100.0   59.572126   -8.233615   51.338511    0.0\n",
      "14   0.639337   100.0   63.933665   -8.233615   55.700050    0.0\n",
      "15   0.682226   100.0   68.222565   -8.233615   59.988950    0.0\n",
      "16   0.724341   100.0   72.434061   -8.233615   64.200446    0.0\n",
      "17   0.765635   100.0   76.563475   -8.233615   68.329860    0.0\n",
      "18   0.806062   100.0   80.606219   -8.233615   72.372604    0.0\n",
      "19   0.845578   100.0   84.557800   -8.233615   76.324185    0.0\n",
      "20   0.884138   100.0   88.413829   -8.233615   80.180214    0.0\n",
      "21   0.921700   100.0   92.170022   -8.233615   83.936407    0.0\n",
      "22   0.958222   100.0   95.822206   -8.233615   87.588591    0.0\n",
      "23   0.993663   100.0   99.366322   -8.233615   91.132707    0.0\n",
      "24   1.027984   100.0  102.798434   -8.233615   94.564819    0.0\n",
      "25   1.061147   100.0  106.114728   -8.233615   97.881113    0.0\n",
      "26   1.093115   100.0  109.311520   -8.233615  101.077905    0.0\n",
      "27   1.123853   100.0  112.385259   -8.233615  104.151644    0.0\n",
      "28   1.153325   100.0  115.332528   -8.233615  107.098913    0.0\n",
      "29   1.181501   100.0  118.150054   -8.233615  109.916439    0.0\n",
      "..        ...     ...         ...         ...         ...    ...\n",
      "170 -0.854704   100.0  -85.470441  571.462547  485.992106    0.0\n",
      "171 -0.814723   100.0  -81.472319  571.462547  489.990228    0.0\n",
      "172 -0.773853   100.0  -77.385288  571.462547  494.077259    0.0\n",
      "173 -0.732139   100.0  -73.213889  571.462547  498.248658    0.0\n",
      "174 -0.689628   100.0  -68.962756  571.462547  502.499791    0.0\n",
      "175 -0.646366   100.0  -64.636613  571.462547  506.825934    0.0\n",
      "176 -0.602403   100.0  -60.240266  571.462547  511.222280    0.0\n",
      "177 -0.557786   100.0  -55.778600  571.462547  515.683947    0.0\n",
      "178 -0.512566   100.0  -51.256571  571.462547  520.205976    0.0\n",
      "179 -0.466792   100.0  -46.679203  571.462547  524.783344    0.0\n",
      "180 -0.420516   100.0  -42.051582  571.462547  529.410965    0.0\n",
      "181 -0.373788   100.0  -37.378849  571.462547  534.083698    0.0\n",
      "182 -0.326662   100.0  -32.666196  571.462547  538.796351    0.0\n",
      "183 -0.279189   100.0  -27.918858  571.462547  543.543689    0.0\n",
      "184 -0.231421   100.0  -23.142110  571.462547  548.320437    0.0\n",
      "185 -0.183413   100.0  -18.341258  571.462547  553.121288    0.0\n",
      "186 -0.135216   100.0  -13.521638  571.462547  557.940909    0.0\n",
      "187 -0.086886   100.0   -8.688602  571.462547  562.773945    0.0\n",
      "188 -0.038475   100.0   -3.847521  571.462547  567.615026    0.0\n",
      "189  0.009962   100.0    0.996227  571.462547  572.458774    0.0\n",
      "190  0.058373   100.0    5.837261  571.462547  577.299807    0.0\n",
      "191  0.106702   100.0   10.670201  571.462547  582.132748    0.0\n",
      "192  0.154897   100.0   15.489679  571.462547  586.952225    0.0\n",
      "193  0.202903   100.0   20.290339  571.462547  591.752886    0.0\n",
      "194  0.250668   100.0   25.066850  571.462547  596.529396    0.0\n",
      "195  0.298139   100.0   29.813903  571.462547  601.276449    0.0\n",
      "196  0.345262   100.0   34.526224  571.462547  605.988771    0.0\n",
      "197  0.391986   100.0   39.198579  571.462547  610.661126    0.0\n",
      "198  0.438258   100.0   43.825776  571.462547  615.288323    0.0\n",
      "199  0.484027   100.0   48.402675  571.462547  619.865222    0.0\n",
      "\n",
      "[200 rows x 6 columns]\n"
     ]
    },
    {
     "data": {
      "image/png": "[encoded data removed]",
      "text/plain": [
       "<matplotlib.figure.Figure at 0xfbc97b080>"
      ]
     },
     "metadata": {},
     "output_type": "display_data"
    }
   ],
   "source": [
    "#Plot Results\n",
    "\n",
    "bt = twp.Backtest(pd.Series(data=[x[0] for x in xdata]), signal, signalType='shares')\n",
    "bt.data['delta'] = bt.data['shares'].diff().fillna(0)\n",
    "\n",
    "print(bt.data)\n",
    "\n",
    "plt.figure()\n",
    "bt.plotTrades()\n",
    "plt.suptitle('epoch' + str(i))\n",
    "plt.savefig('final_trades'+'.png', bbox_inches='tight', pad_inches=1, dpi=72) # assumes there is a ./plt dir\n",
    "plt.close('all')\n",
    "\n",
    "plt.figure()\n",
    "plt.subplot(3,1,1)\n",
    "bt.plotTrades()\n",
    "plt.subplot(3,1,2)\n",
    "bt.pnl.plot(style='x-')\n",
    "plt.subplot(3,1,3)\n",
    "plt.plot(learning_progress)\n",
    "\n",
    "plt.show()\n"
   ]
  },
  {
   "cell_type": "code",
   "execution_count": null,
   "metadata": {
    "collapsed": true
   },
   "outputs": [],
   "source": []
  }
 ],
 "metadata": {
  "kernelspec": {
   "display_name": "Python 3",
   "language": "python",
   "name": "python3"
  },
  "language_info": {
   "codemirror_mode": {
    "name": "ipython",
    "version": 3
   },
   "file_extension": ".py",
   "mimetype": "text/x-python",
   "name": "python",
   "nbconvert_exporter": "python",
   "pygments_lexer": "ipython3",
   "version": "3.5.2"
  }
 },
 "nbformat": 4,
 "nbformat_minor": 0
}
