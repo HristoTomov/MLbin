{
 "cells": [
  {
   "cell_type": "code",
   "execution_count": 1,
   "metadata": {
    "collapsed": true
   },
   "outputs": [],
   "source": [
    "import pandas as pd\n",
    "import numpy as np\n",
    "import os\n",
    "from osgeo import gdal\n",
    "import scipy\n",
    "import random\n",
    "from numpy import random"
   ]
  },
  {
   "cell_type": "code",
   "execution_count": 2,
   "metadata": {},
   "outputs": [
    {
     "data": {
      "text/html": [
       "<div>\n",
       "<style>\n",
       "    .dataframe thead tr:only-child th {\n",
       "        text-align: right;\n",
       "    }\n",
       "\n",
       "    .dataframe thead th {\n",
       "        text-align: left;\n",
       "    }\n",
       "\n",
       "    .dataframe tbody tr th {\n",
       "        vertical-align: top;\n",
       "    }\n",
       "</style>\n",
       "<table border=\"1\" class=\"dataframe\">\n",
       "  <thead>\n",
       "    <tr style=\"text-align: right;\">\n",
       "      <th></th>\n",
       "      <th>image_name</th>\n",
       "      <th>tags</th>\n",
       "    </tr>\n",
       "  </thead>\n",
       "  <tbody>\n",
       "    <tr>\n",
       "      <th>0</th>\n",
       "      <td>train_0</td>\n",
       "      <td>haze primary</td>\n",
       "    </tr>\n",
       "    <tr>\n",
       "      <th>1</th>\n",
       "      <td>train_1</td>\n",
       "      <td>agriculture clear primary water</td>\n",
       "    </tr>\n",
       "    <tr>\n",
       "      <th>2</th>\n",
       "      <td>train_2</td>\n",
       "      <td>clear primary</td>\n",
       "    </tr>\n",
       "    <tr>\n",
       "      <th>3</th>\n",
       "      <td>train_3</td>\n",
       "      <td>clear primary</td>\n",
       "    </tr>\n",
       "    <tr>\n",
       "      <th>4</th>\n",
       "      <td>train_4</td>\n",
       "      <td>agriculture clear habitation primary road</td>\n",
       "    </tr>\n",
       "  </tbody>\n",
       "</table>\n",
       "</div>"
      ],
      "text/plain": [
       "  image_name                                       tags\n",
       "0    train_0                               haze primary\n",
       "1    train_1            agriculture clear primary water\n",
       "2    train_2                              clear primary\n",
       "3    train_3                              clear primary\n",
       "4    train_4  agriculture clear habitation primary road"
      ]
     },
     "execution_count": 2,
     "metadata": {},
     "output_type": "execute_result"
    }
   ],
   "source": [
    "CSV_Train_File = \"E:\\\\TMP\\\\GIT-ML\\\\PlanetAmazon\\\\train_csv_v2\\\\train_v2.csv\"\n",
    "\n",
    "df = pd.read_csv(CSV_Train_File)\n",
    "df.head()"
   ]
  },
  {
   "cell_type": "code",
   "execution_count": 3,
   "metadata": {
    "collapsed": true
   },
   "outputs": [],
   "source": [
    "all_tags = [item for sublist in list(df['tags'].apply(lambda row: row.split(\" \")).values) for item in sublist]\n",
    "all_tags = np.asarray(all_tags)\n",
    "unique_tags = np.unique(all_tags)"
   ]
  },
  {
   "cell_type": "code",
   "execution_count": 4,
   "metadata": {},
   "outputs": [
    {
     "name": "stdout",
     "output_type": "stream",
     "text": [
      "Learn agriculture\n",
      "Learn artisinal_mine\n",
      "Learn bare_ground\n",
      "Learn blooming\n",
      "Learn blow_down\n",
      "Learn clear\n",
      "Learn cloudy\n",
      "Learn conventional_mine\n",
      "Learn cultivation\n",
      "Learn habitation\n",
      "Learn haze\n",
      "Learn partly_cloudy\n",
      "Learn primary\n",
      "Learn road\n",
      "Learn selective_logging\n",
      "Learn slash_burn\n",
      "Learn water\n"
     ]
    }
   ],
   "source": [
    "for label in unique_tags:\n",
    "    print(\"Learn\", label)\n",
    "    df[label] = pd.Series(0, index=df.index)\n",
    "    df.loc[df['tags'].str.contains(label), label] = 1"
   ]
  },
  {
   "cell_type": "code",
   "execution_count": 5,
   "metadata": {
    "collapsed": true
   },
   "outputs": [],
   "source": [
    "import numpy as np\n",
    "import math\n",
    "\n",
    "# labels_dict : {ind_label: count_label}\n",
    "# mu : parameter to tune \n",
    "\n",
    "def create_class_weight(labels_dict,mu=0.15):\n",
    "    total = sum(labels_dict.values())\n",
    "    keys = labels_dict.keys()\n",
    "    class_weight = dict()\n",
    "    mutotal = 0.15*float(total)\n",
    "    for key in keys:\n",
    "        \n",
    "        score = math.log(mutotal/float(labels_dict[key]))\n",
    "        class_weight[key] = score if score > 1.0 else 1.0\n",
    "\n",
    "    return class_weight\n",
    "\n",
    "# random labels_dict\n",
    "labels_dict = {0: 12338, 1: 339, 2: 859, 3: 332, 4: 101, 5: 28203, 6: 2330, 7: 100, 8: 4547, 9: 3662, 10: 2695, 11:7251, 12: 37840, 13: 8076, 14:340, 15:209, 16:7262}\n",
    "weight_pclass = create_class_weight(labels_dict)"
   ]
  },
  {
   "cell_type": "code",
   "execution_count": 6,
   "metadata": {},
   "outputs": [
    {
     "name": "stdout",
     "output_type": "stream",
     "text": [
      "env: CUDA_DEVICE_ORDER=PCI_BUS_ID\n",
      "env: CUDA_VISIBLE_DEVICES=0\n"
     ]
    }
   ],
   "source": [
    "%env CUDA_DEVICE_ORDER=PCI_BUS_ID\n",
    "%env CUDA_VISIBLE_DEVICES=0"
   ]
  },
  {
   "cell_type": "code",
   "execution_count": 7,
   "metadata": {},
   "outputs": [
    {
     "name": "stderr",
     "output_type": "stream",
     "text": [
      "Using TensorFlow backend.\n"
     ]
    }
   ],
   "source": [
    "from keras.preprocessing.image import ImageDataGenerator\n",
    "from keras.models import Sequential\n",
    "from keras.layers import Conv2D, MaxPooling2D\n",
    "from keras.layers import Activation, Dropout, Flatten, Dense\n",
    "from keras import backend as K\n",
    "from keras.models import load_model"
   ]
  },
  {
   "cell_type": "code",
   "execution_count": 8,
   "metadata": {
    "collapsed": true
   },
   "outputs": [],
   "source": [
    "def cnn_model():\n",
    "    model = Sequential()\n",
    "    model.add(Conv2D(32, (3, 3), input_shape=input_shape))\n",
    "    model.add(Activation('relu'))\n",
    "    model.add(MaxPooling2D(pool_size=(2, 2)))\n",
    "\n",
    "    model.add(Conv2D(32, (3, 3)))\n",
    "    model.add(Activation('relu'))\n",
    "    model.add(MaxPooling2D(pool_size=(2, 2)))\n",
    "\n",
    "    model.add(Conv2D(64, (3, 3)))\n",
    "    model.add(Activation('relu'))\n",
    "    model.add(MaxPooling2D(pool_size=(2, 2)))\n",
    "\n",
    "    model.add(Flatten())\n",
    "    model.add(Dense(64))\n",
    "    model.add(Activation('relu'))\n",
    "    model.add(Dropout(0.5))\n",
    "    model.add(Dense(17))\n",
    "    model.add(Activation('sigmoid'))\n",
    "    #model.add(Activation('softmax'))\n",
    "\n",
    "    return model"
   ]
  },
  {
   "cell_type": "code",
   "execution_count": 13,
   "metadata": {
    "collapsed": true
   },
   "outputs": [],
   "source": [
    "def imgProcessingRGB(imgName, pathImg):\n",
    "    \n",
    "    img = gdal.Open(pathImg + imgName + '.tif')\n",
    "    #img = gdal.Open(pathImg + imgName + '.jpg')\n",
    "    imgData = img.ReadAsArray()\n",
    "\n",
    "    r = imgData[2,:,:]\n",
    "    g = imgData[1,:,:]\n",
    "    b = imgData[0,:,:]\n",
    "    #nir = imgData[3,:,:]\n",
    "    \n",
    "    #r = r/255.\n",
    "    #g = g/255.\n",
    "    #b = b/255.\n",
    "\n",
    "    r = (r / 65535.)**(1/2.2)\n",
    "    g = (g / 65535.)**(1/2.2)\n",
    "    b = (b / 65535.)**(1/2.2)\n",
    "\n",
    "    newLayers = np.dstack([r,g,b])\n",
    "    return newLayers"
   ]
  },
  {
   "cell_type": "code",
   "execution_count": 14,
   "metadata": {
    "collapsed": true
   },
   "outputs": [],
   "source": [
    "def generatorRGB(features, labels, batch_size, pathImg):\n",
    "    batch_features = np.zeros((batch_size, 256, 256, 3))\n",
    "    batch_labels = np.zeros((batch_size,17))\n",
    "    while True:\n",
    "        for i in range(batch_size):\n",
    "            # choose random index in features\n",
    "            index= random.choice(len(features),1)[0]\n",
    "            batch_features[i] = imgProcessingRGB(features[index], pathImg)\n",
    "            batch_labels[i] = labels[index]\n",
    "        yield (batch_features, batch_labels)"
   ]
  },
  {
   "cell_type": "code",
   "execution_count": 15,
   "metadata": {},
   "outputs": [
    {
     "name": "stdout",
     "output_type": "stream",
     "text": [
      "(40479, 17)\n",
      "(40479,)\n"
     ]
    }
   ],
   "source": [
    "saveModelPath = \"E:\\\\TMP\\GIT-ML\\\\PlanetAmazon\\\\keras_models\\\\\"\n",
    "labels = df.values[:,2:]\n",
    "features = df['image_name'].values\n",
    "print(labels.shape)\n",
    "print(features.shape)\n",
    "input_shape = (256, 256, 3)\n",
    "#train_path = 'E:\\\\TMP\\\\GIT-ML\\\\PlanetAmazon\\\\train-jpg-v2\\\\'\n",
    "train_path = 'C:\\\\Temp\\\\train-tif-v2\\\\'\n",
    "test_path = 'E:\\\\TMP\\GIT-ML\\\\PlanetAmazon\\\\test-jpg-v2\\\\'"
   ]
  },
  {
   "cell_type": "code",
   "execution_count": null,
   "metadata": {},
   "outputs": [
    {
     "name": "stdout",
     "output_type": "stream",
     "text": [
      "Epoch 1/17\n",
      "3999/5400 [=====================>........] - ETA: 289s - loss: 0.3852 - acc: 0.8935"
     ]
    }
   ],
   "source": [
    "model = cnn_model()\n",
    "model.compile(loss='binary_crossentropy',\n",
    "                #optimizer='rmsprop',\n",
    "                optimizer='adam',\n",
    "                metrics=['accuracy'])\n",
    "\n",
    "batch_size = 16\n",
    "pathImg = train_path\n",
    "model.fit_generator( generatorRGB(features,labels,batch_size, pathImg), \n",
    "                    steps_per_epoch = 5400, epochs = 17, class_weight = weight_pclass,\n",
    "                    verbose=1, callbacks=None, validation_data=None)\n",
    "model.save(saveModelPath +  \"MultyLabelsRGBvW2.h5\")"
   ]
  },
  {
   "cell_type": "code",
   "execution_count": null,
   "metadata": {
    "collapsed": true
   },
   "outputs": [],
   "source": []
  }
 ],
 "metadata": {
  "kernelspec": {
   "display_name": "Python 3",
   "language": "python",
   "name": "python3"
  },
  "language_info": {
   "codemirror_mode": {
    "name": "ipython",
    "version": 3
   },
   "file_extension": ".py",
   "mimetype": "text/x-python",
   "name": "python",
   "nbconvert_exporter": "python",
   "pygments_lexer": "ipython3",
   "version": "3.5.3"
  }
 },
 "nbformat": 4,
 "nbformat_minor": 1
}
